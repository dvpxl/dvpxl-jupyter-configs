{
 "cells": [
  {
   "cell_type": "markdown",
   "metadata": {},
   "source": [
    "Work in progress ...\n",
    "\n",
    "# Introduction\n",
    "\n",
    "Evaluating using Jupyter for ease of inputting math / equations and later extracting for ease into papers.\n",
    "\n",
    "## MathJax\n",
    "\n",
    "Jupyter can input MathJax and uses version 2 as default.\n",
    "\n",
    "Version 3 provides improved loadspeed of 60-80% [1].  \n",
    "\n",
    "## Markdown\n",
    "\n",
    "Documents any caveats while rendering within markdown.\n"
   ]
  },
  {
   "cell_type": "markdown",
   "metadata": {},
   "source": [
    "# Simple MathJax Test\n",
    "\n",
    "Example provided with Jupyter's documentation [1].\n",
    "\n",
    "```\n",
    "Source: \n",
    "$$\n",
    "  \\int_0^\\infty \\frac{x^3}{e^x-1}\\,dx = \\frac{\\pi^4}{15}\n",
    "$$\n",
    "```\n",
    "\n",
    "$$\n",
    "  \\int_0^\\infty \\frac{x^3}{e^x-1}\\,dx = \\frac{\\pi^4}{15}\n",
    "$$\n"
   ]
  },
  {
   "cell_type": "markdown",
   "metadata": {},
   "source": [
    "Equation on its own line:\n",
    "\n",
    "$$\n",
    "y=mx+b\n",
    "$$\n",
    "\n",
    "```\n",
    "Source:\n",
    "Attempt inline => (results on new line): $$ y=mx+b $$\n",
    "````\n",
    "\n",
    "Attempt inline => (results on new line): $$ y=mx+b $$\n",
    "\n"
   ]
  },
  {
   "cell_type": "markdown",
   "metadata": {},
   "source": [
    "# Formatting Analysis\n",
    "\n",
    "Not possible to inline the equation with the text body using markdown.\n"
   ]
  },
  {
   "cell_type": "markdown",
   "metadata": {},
   "source": [
    "# TeX formatting\n",
    "\n",
    "Instead of using '$$' tags, adding equations directly using MathJax also works.  \n",
    "\n",
    "```\n",
    "\\begin{equation}\n",
    "   E = mc^2\n",
    "\\end{equation}\n",
    "```"
   ]
  },
  {
   "cell_type": "markdown",
   "metadata": {},
   "source": [
    "# Labeling and Number\n",
    "\n",
    "We like also to be able to label and number equation, but this did not work well due to equations sitting on its own line."
   ]
  },
  {
   "cell_type": "markdown",
   "metadata": {},
   "source": [
    "# Conclusion\n",
    "\n",
    "There is a specific extension for Jupyter with use with TeX [https://github.com/jupyterlab/jupyterlab/issues/4039]. \n",
    "\n",
    "Will return here with new topic using the above extension."
   ]
  },
  {
   "cell_type": "markdown",
   "metadata": {},
   "source": [
    "# References\n",
    "\n",
    "[1] https://jupyterbook.org/content/math.html"
   ]
  }
 ],
 "metadata": {
  "interpreter": {
   "hash": "a9fd907d7ea63b111c11154af5a0aa4e186ab0e1ad6e3aee3def03de1c582b4d"
  },
  "kernelspec": {
   "display_name": "Python 3.7.10 64-bit ('ml4t': conda)",
   "name": "python3"
  },
  "language_info": {
   "codemirror_mode": {
    "name": "ipython",
    "version": 3
   },
   "file_extension": ".py",
   "mimetype": "text/x-python",
   "name": "python",
   "nbconvert_exporter": "python",
   "pygments_lexer": "ipython3",
   "version": "3.7.10"
  }
 },
 "nbformat": 4,
 "nbformat_minor": 5
}